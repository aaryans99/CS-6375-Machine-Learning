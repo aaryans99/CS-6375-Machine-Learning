{
 "cells": [
  {
   "cell_type": "markdown",
   "metadata": {
    "colab_type": "text",
    "id": "view-in-github"
   },
   "source": [
    "<a href=\"https://colab.research.google.com/github/aaryans99/CS-6375-Machine-Learning/blob/main/Assignment%203/Assignment_3.ipynb\" target=\"_parent\"><img src=\"https://colab.research.google.com/assets/colab-badge.svg\" alt=\"Open In Colab\"/></a>"
   ]
  },
  {
   "cell_type": "markdown",
   "metadata": {
    "id": "JoqYPnXxlYLW"
   },
   "source": [
    "**6375 ML - Assignment 3**\n",
    "\n",
    "Aaryan Singh - axc230019\n",
    "\n",
    "Nikunj Gohil - ndg220000\n",
    "\n",
    "---\n",
    "\n"
   ]
  },
  {
   "cell_type": "markdown",
   "metadata": {
    "id": "QJxYHIm8lj1J"
   },
   "source": [
    "\n",
    "\n",
    "1.   Importing libraries\n",
    "\n"
   ]
  },
  {
   "cell_type": "code",
   "execution_count": 5,
   "metadata": {
    "id": "K51oyO_1lqM8"
   },
   "outputs": [],
   "source": [
    "import numpy as np\n",
    "import re\n",
    "import pandas as pd\n",
    "from tabulate import tabulate"
   ]
  },
  {
   "cell_type": "markdown",
   "metadata": {
    "id": "uPjL26kPlrd-"
   },
   "source": [
    "2. Importing dataset and preprocessing"
   ]
  },
  {
   "cell_type": "code",
   "execution_count": 6,
   "metadata": {
    "colab": {
     "base_uri": "https://localhost:8080/",
     "height": 423
    },
    "id": "KdnbSCFAl2OQ",
    "outputId": "4b33f23b-04e3-494b-c266-2a05e940f31d"
   },
   "outputs": [
    {
     "data": {
      "text/html": [
       "<div>\n",
       "<style scoped>\n",
       "    .dataframe tbody tr th:only-of-type {\n",
       "        vertical-align: middle;\n",
       "    }\n",
       "\n",
       "    .dataframe tbody tr th {\n",
       "        vertical-align: top;\n",
       "    }\n",
       "\n",
       "    .dataframe thead th {\n",
       "        text-align: right;\n",
       "    }\n",
       "</style>\n",
       "<table border=\"1\" class=\"dataframe\">\n",
       "  <thead>\n",
       "    <tr style=\"text-align: right;\">\n",
       "      <th></th>\n",
       "      <th>tweet</th>\n",
       "    </tr>\n",
       "  </thead>\n",
       "  <tbody>\n",
       "    <tr>\n",
       "      <th>0</th>\n",
       "      <td>Planning to hire a personal trainer? Read thes...</td>\n",
       "    </tr>\n",
       "    <tr>\n",
       "      <th>1</th>\n",
       "      <td>RT @AnnaMedaris: Any dads out their who strugg...</td>\n",
       "    </tr>\n",
       "    <tr>\n",
       "      <th>2</th>\n",
       "      <td>America's problem with diabetes in one map: ht...</td>\n",
       "    </tr>\n",
       "    <tr>\n",
       "      <th>3</th>\n",
       "      <td>Think water &amp;amp; fiber will cure your constip...</td>\n",
       "    </tr>\n",
       "    <tr>\n",
       "      <th>4</th>\n",
       "      <td>About to lose it? Here, try one of these offic...</td>\n",
       "    </tr>\n",
       "    <tr>\n",
       "      <th>...</th>\n",
       "      <td>...</td>\n",
       "    </tr>\n",
       "    <tr>\n",
       "      <th>1390</th>\n",
       "      <td>RT @AnnaMedaris: Have you tried a #dance party...</td>\n",
       "    </tr>\n",
       "    <tr>\n",
       "      <th>1391</th>\n",
       "      <td>Going gray early? Here's how to stop it. http:...</td>\n",
       "    </tr>\n",
       "    <tr>\n",
       "      <th>1392</th>\n",
       "      <td>Sure, we all get nervous sometimes. But how to...</td>\n",
       "    </tr>\n",
       "    <tr>\n",
       "      <th>1393</th>\n",
       "      <td>RT @leonardkl: Millions have signed up for hea...</td>\n",
       "    </tr>\n",
       "    <tr>\n",
       "      <th>1394</th>\n",
       "      <td>RT @leonardkl: Are you getting #healthinsuranc...</td>\n",
       "    </tr>\n",
       "  </tbody>\n",
       "</table>\n",
       "<p>1395 rows × 1 columns</p>\n",
       "</div>"
      ],
      "text/plain": [
       "                                                  tweet\n",
       "0     Planning to hire a personal trainer? Read thes...\n",
       "1     RT @AnnaMedaris: Any dads out their who strugg...\n",
       "2     America's problem with diabetes in one map: ht...\n",
       "3     Think water &amp; fiber will cure your constip...\n",
       "4     About to lose it? Here, try one of these offic...\n",
       "...                                                 ...\n",
       "1390  RT @AnnaMedaris: Have you tried a #dance party...\n",
       "1391  Going gray early? Here's how to stop it. http:...\n",
       "1392  Sure, we all get nervous sometimes. But how to...\n",
       "1393  RT @leonardkl: Millions have signed up for hea...\n",
       "1394  RT @leonardkl: Are you getting #healthinsuranc...\n",
       "\n",
       "[1395 rows x 1 columns]"
      ]
     },
     "execution_count": 6,
     "metadata": {},
     "output_type": "execute_result"
    }
   ],
   "source": [
    "file_path = 'https://raw.githubusercontent.com/aaryans99/CS-6375-Machine-Learning/main/Assignment%203/Health-Tweets/usnewshealth.txt'  # Replace with the path to your text file\n",
    "# Define column names\n",
    "column_names = ['tweet id', 'date and time', 'tweet']\n",
    "\n",
    "# Read the text file with specified column names and selecting the specified column\n",
    "df = pd.read_csv(file_path, sep='|', names=column_names, usecols=['tweet'])\n",
    "\n",
    "\n",
    "# Display the DataFrame with the added column headings\n",
    "df"
   ]
  },
  {
   "cell_type": "code",
   "execution_count": 7,
   "metadata": {
    "colab": {
     "base_uri": "https://localhost:8080/",
     "height": 423
    },
    "id": "-O-9Q32uqJKz",
    "outputId": "2fb3cce3-52ab-472e-bcbb-ad377957bcf9"
   },
   "outputs": [
    {
     "data": {
      "text/html": [
       "<div>\n",
       "<style scoped>\n",
       "    .dataframe tbody tr th:only-of-type {\n",
       "        vertical-align: middle;\n",
       "    }\n",
       "\n",
       "    .dataframe tbody tr th {\n",
       "        vertical-align: top;\n",
       "    }\n",
       "\n",
       "    .dataframe thead th {\n",
       "        text-align: right;\n",
       "    }\n",
       "</style>\n",
       "<table border=\"1\" class=\"dataframe\">\n",
       "  <thead>\n",
       "    <tr style=\"text-align: right;\">\n",
       "      <th></th>\n",
       "      <th>tweet</th>\n",
       "    </tr>\n",
       "  </thead>\n",
       "  <tbody>\n",
       "    <tr>\n",
       "      <th>0</th>\n",
       "      <td>planning to hire a personal trainer? read thes...</td>\n",
       "    </tr>\n",
       "    <tr>\n",
       "      <th>1</th>\n",
       "      <td>rt : any dads out their who struggled w/ depre...</td>\n",
       "    </tr>\n",
       "    <tr>\n",
       "      <th>2</th>\n",
       "      <td>america's problem with diabetes in one map:   by</td>\n",
       "    </tr>\n",
       "    <tr>\n",
       "      <th>3</th>\n",
       "      <td>think water &amp;amp; fiber will cure your constip...</td>\n",
       "    </tr>\n",
       "    <tr>\n",
       "      <th>4</th>\n",
       "      <td>about to lose it? here, try one of these offic...</td>\n",
       "    </tr>\n",
       "    <tr>\n",
       "      <th>...</th>\n",
       "      <td>...</td>\n",
       "    </tr>\n",
       "    <tr>\n",
       "      <th>1390</th>\n",
       "      <td>rt : have you tried a dance party fitness clas...</td>\n",
       "    </tr>\n",
       "    <tr>\n",
       "      <th>1391</th>\n",
       "      <td>going gray early? here's how to stop it.</td>\n",
       "    </tr>\n",
       "    <tr>\n",
       "      <th>1392</th>\n",
       "      <td>sure, we all get nervous sometimes. but how to...</td>\n",
       "    </tr>\n",
       "    <tr>\n",
       "      <th>1393</th>\n",
       "      <td>rt : millions have signed up for health insura...</td>\n",
       "    </tr>\n",
       "    <tr>\n",
       "      <th>1394</th>\n",
       "      <td>rt : are you getting healthinsurance for the f...</td>\n",
       "    </tr>\n",
       "  </tbody>\n",
       "</table>\n",
       "<p>1395 rows × 1 columns</p>\n",
       "</div>"
      ],
      "text/plain": [
       "                                                  tweet\n",
       "0     planning to hire a personal trainer? read thes...\n",
       "1     rt : any dads out their who struggled w/ depre...\n",
       "2     america's problem with diabetes in one map:   by \n",
       "3     think water &amp; fiber will cure your constip...\n",
       "4     about to lose it? here, try one of these offic...\n",
       "...                                                 ...\n",
       "1390  rt : have you tried a dance party fitness clas...\n",
       "1391          going gray early? here's how to stop it. \n",
       "1392  sure, we all get nervous sometimes. but how to...\n",
       "1393  rt : millions have signed up for health insura...\n",
       "1394  rt : are you getting healthinsurance for the f...\n",
       "\n",
       "[1395 rows x 1 columns]"
      ]
     },
     "execution_count": 7,
     "metadata": {},
     "output_type": "execute_result"
    }
   ],
   "source": [
    "def clean_text(text):\n",
    "    # Remove words starting with @ symbol\n",
    "    text = re.sub(r'@\\w+\\s?', '', text)\n",
    "\n",
    "    # Remove hashtag symbols and convert URLs to an empty string\n",
    "    text = re.sub(r'#', '', text)\n",
    "    text = re.sub(r'http\\S+|www\\S+', '', text)\n",
    "\n",
    "    # Convert text to lowercase\n",
    "    text = text.lower()\n",
    "\n",
    "    return text\n",
    "\n",
    "df['tweet'] = df['tweet'].apply(clean_text)\n",
    "df"
   ]
  },
  {
   "cell_type": "markdown",
   "metadata": {
    "id": "qPRTwBAU0T00"
   },
   "source": [
    "3. Performing k-means clustering"
   ]
  },
  {
   "cell_type": "code",
   "execution_count": 9,
   "metadata": {
    "colab": {
     "base_uri": "https://localhost:8080/"
    },
    "id": "CT4kfrbB0WII",
    "outputId": "59783d76-0366-4a97-9118-5e6801988e75"
   },
   "outputs": [
    {
     "name": "stdout",
     "output_type": "stream",
     "text": [
      "+--------------+---------+----------------------------------------------------+\n",
      "|   Value of K |     SSE | Size of each cluster                               |\n",
      "+==============+=========+====================================================+\n",
      "|            2 | 1279.98 | [1023, 372]                                        |\n",
      "+--------------+---------+----------------------------------------------------+\n",
      "|            3 | 1262.56 | [783, 343, 269]                                    |\n",
      "+--------------+---------+----------------------------------------------------+\n",
      "|            4 | 1248.86 | [671, 314, 261, 149]                               |\n",
      "+--------------+---------+----------------------------------------------------+\n",
      "|            5 | 1236.67 | [564, 287, 235, 149, 160]                          |\n",
      "+--------------+---------+----------------------------------------------------+\n",
      "|            6 | 1218.06 | [416, 261, 217, 62, 142, 297]                      |\n",
      "+--------------+---------+----------------------------------------------------+\n",
      "|            7 | 1209.34 | [314, 255, 207, 55, 134, 288, 142]                 |\n",
      "+--------------+---------+----------------------------------------------------+\n",
      "|            8 | 1193.34 | [238, 228, 178, 43, 99, 273, 132, 204]             |\n",
      "+--------------+---------+----------------------------------------------------+\n",
      "|            9 | 1189.05 | [236, 222, 156, 43, 97, 269, 132, 64, 176]         |\n",
      "+--------------+---------+----------------------------------------------------+\n",
      "|           10 | 1183.87 | [222, 211, 134, 43, 80, 262, 132, 64, 176, 71]     |\n",
      "+--------------+---------+----------------------------------------------------+\n",
      "|           11 | 1168.01 | [185, 176, 113, 40, 71, 203, 96, 59, 167, 67, 218] |\n",
      "+--------------+---------+----------------------------------------------------+\n"
     ]
    }
   ],
   "source": [
    "# Function to calculate Jaccard distance between two sets\n",
    "def jaccard_distance(set1, set2):\n",
    "    intersection = len(set1.intersection(set2))\n",
    "    union = len(set1.union(set2))\n",
    "    return 1 - (intersection / union) if union != 0 else 0  # Avoid division by zero\n",
    "\n",
    "# Function to perform K-means clustering with Jaccard distance\n",
    "def kmeans_clustering_jaccard(k, data):\n",
    "    centroids = data['tweet'].iloc[:k].apply(lambda x: set(x.lower().split()))\n",
    "\n",
    "    tweet_sets = data['tweet'].apply(lambda x: set(x.lower().split()))\n",
    "\n",
    "    clusters = [[] for _ in range(k)]\n",
    "    for tweet_set in tweet_sets:\n",
    "        distances = [jaccard_distance(tweet_set, centroid) for centroid in centroids]\n",
    "        closest_centroid_index = distances.index(min(distances))\n",
    "        clusters[closest_centroid_index].append(tweet_set)\n",
    "\n",
    "    # Calculate SSE (sum of Jaccard distances)\n",
    "    sse = 0\n",
    "    for i, centroid in enumerate(centroids):\n",
    "        cluster_sets = clusters[i]\n",
    "        sse += sum(jaccard_distance(tweet_set, centroid) ** 2 for tweet_set in cluster_sets)\n",
    "\n",
    "    return sse, clusters\n",
    "\n",
    "# Perform K-means clustering for different values of K\n",
    "results = []\n",
    "for k in range(2, 12):\n",
    "    sse, clusters = kmeans_clustering_jaccard(k, df)\n",
    "    cluster_sizes = [len(cluster) for cluster in clusters]\n",
    "    results.append((k, sse, cluster_sizes))\n",
    "\n",
    "# Display the results in tabular format using tabulate\n",
    "table_headers = [\"Value of K\", \"SSE\", \"Size of each cluster\"]\n",
    "table_data = [[result[0], result[1], result[2]] for result in results]\n",
    "\n",
    "print(tabulate(table_data, headers=table_headers, tablefmt=\"grid\"))\n"
   ]
  }
 ],
 "metadata": {
  "colab": {
   "authorship_tag": "ABX9TyOR2pYIs2ML7MBIIBX9J19+",
   "include_colab_link": true,
   "provenance": []
  },
  "kernelspec": {
   "display_name": "Python 3 (ipykernel)",
   "language": "python",
   "name": "python3"
  },
  "language_info": {
   "codemirror_mode": {
    "name": "ipython",
    "version": 3
   },
   "file_extension": ".py",
   "mimetype": "text/x-python",
   "name": "python",
   "nbconvert_exporter": "python",
   "pygments_lexer": "ipython3",
   "version": "3.11.3"
  }
 },
 "nbformat": 4,
 "nbformat_minor": 1
}
